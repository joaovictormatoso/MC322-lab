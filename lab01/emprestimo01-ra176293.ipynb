{
 "cells": [
  {
   "cell_type": "markdown",
   "metadata": {},
   "source": [
    "# Exercício do Empréstimo\n",
    "\n",
    "- Aluno: João Victor Evangelista Matoso\n",
    "- RA: 176293\n",
    "---\n",
    "\n",
    "Em um financiamento com juros compostos e número de parcelas fixas parte-se dos seguintes parâmetros:\n",
    "* `S` - valor da primeira parcela\n",
    "* `N` - número de parcelas\n",
    "* `J` - percentual de juros mensal\n",
    "\n",
    "A primeira parcela a ser paga do financiamento é sempre igual a `S`. A partir daí é feita uma atualização mensal da parcela, em que cada nova parcela é calculada a partir da parcela do mês anterior, conforme a fórmula:\n",
    "\n",
    "> Parcela<sub>mês</sub> = Parcela<sub>mês-1</sub> * (1 + `J` / 100)\n",
    "\n",
    "O financiamento encerra quando as `N` parcelas são pagas.\n",
    "\n",
    "Exemplo:\n",
    "* `S`: 200\n",
    "* `N`: 5\n",
    "* `J`: 1%\n",
    "\n",
    "Parcelas do financiamento:\n",
    "`200`; `202`; `204.02`; `206.06`; `208.12`"
   ]
  },
  {
   "cell_type": "markdown",
   "metadata": {},
   "source": [
    "## Exercício Parte 1 - Escrevendo um Módulo\n",
    "\n",
    "Dado o problema descrito, escreva um programa que calcule as parcelas de um empréstimo para os seguintes valores:\n",
    "* `S`: 200\n",
    "* `N`: 5\n",
    "* `J`: 1%"
   ]
  },
  {
   "cell_type": "code",
   "execution_count": 1,
   "metadata": {},
   "outputs": [
    {
     "name": "stdout",
     "output_type": "stream",
     "text": [
      "Parcela 1: 200.00\n",
      "Parcela 2: 202.00\n",
      "Parcela 3: 204.02\n",
      "Parcela 4: 206.06\n",
      "Parcela 5: 208.12\n"
     ]
    }
   ],
   "source": [
    "#include <stdio.h>\n",
    "\n",
    "int main(){\n",
    "    // Entradas do problema:\n",
    "    double s = 200;\n",
    "    double j = 1;\n",
    "    int n = 5;\n",
    "    \n",
    "    // Calculo iterativo das parcelas até n:\n",
    "    for(int i = 1; i <= n; i++){\n",
    "        printf(\"Parcela %d: %.2f\\n\", i, s);\n",
    "        s += s*j/100;\n",
    "    }\n",
    "    \n",
    "    return 0;\n",
    "}"
   ]
  },
  {
   "cell_type": "markdown",
   "metadata": {},
   "source": [
    "## Exercício Parte 2 - Escrevendo um Módulo\n",
    "\n",
    "Reescreva o código acima de forma que seu programa faça uso de uma função que seja responsável pelo cálculo de uma parcela X do empréstimo. Utilize as boas práticas de modularização que você aprendeu, evitando dependências do módulo com o programa principal."
   ]
  },
  {
   "cell_type": "code",
   "execution_count": 2,
   "metadata": {},
   "outputs": [
    {
     "name": "stdout",
     "output_type": "stream",
     "text": [
      "Parcela 1: 200.00\n",
      "Parcela 2: 202.00\n",
      "Parcela 3: 204.02\n",
      "Parcela 4: 206.06\n",
      "Parcela 5: 208.12\n"
     ]
    }
   ],
   "source": [
    "#include <stdio.h>\n",
    "\n",
    "double calculaParcela(int x, double s, double j){\n",
    "    // Declaração de variaveis auxiliares\n",
    "    double jAux = 1;\n",
    "    \n",
    "    // Calculo da exponencial (1+j/100) ^(x-1)\n",
    "    for(int i = 0; i < x-1; i++)\n",
    "        jAux *= (1+j/100);\n",
    "    \n",
    "    return s * jAux;\n",
    "}\n",
    "\n",
    "int main(){\n",
    "    // Entradas do problema:\n",
    "    double s = 200;\n",
    "    double j = 1;\n",
    "    int n = 5;\n",
    "    \n",
    "    // Calculo iterativo das parcelas até n:\n",
    "    for(int i = 1; i <= n; i++)\n",
    "        printf(\"Parcela %d: %.2f\\n\", i, calculaParcela(i, s, j));\n",
    "    \n",
    "    return 0;\n",
    "}\n",
    "\n"
   ]
  },
  {
   "cell_type": "markdown",
   "metadata": {},
   "source": [
    "## Exercício Parte 3 - Minimizando os Parâmetros\n",
    "\n",
    "Modifique o módulo para que o cliente (que chama a função) use o mínimo de parâmetros possíveis. Para isso a sua função precisa estar ciente do estado corrente do empréstimo, ou seja, ela precisará saber qual a próxima parcela que ela precisa calcular sem que lhe seja informado, para isso:\n",
    "* evite informar recorrentemente como parâmetros dados sobre as características do empréstimo;\n",
    "* evite usar informações de controle (e.g., parcela corrente) como parâmetro."
   ]
  },
  {
   "cell_type": "code",
   "execution_count": 3,
   "metadata": {},
   "outputs": [
    {
     "name": "stdout",
     "output_type": "stream",
     "text": [
      "Parcela 1: 200.00\n",
      "Parcela 2: 202.00\n",
      "Parcela 3: 204.02\n",
      "Parcela 4: 206.06\n",
      "Parcela 5: 208.12\n",
      "Parcela 6: 0.00\n",
      "Parcela 7: 0.00\n"
     ]
    }
   ],
   "source": [
    "#include <stdio.h>\n",
    "\n",
    "// Variaveis globais de estado do emprestimo:\n",
    "double parcelaAtual;\n",
    "double juros;\n",
    "int totalParcelas;\n",
    "int nParcelaAtual;\n",
    "\n",
    "double calculaParcela(){\n",
    "    double s = parcelaAtual;\n",
    "    \n",
    "    if(nParcelaAtual < totalParcelas)\n",
    "        parcelaAtual += parcelaAtual*juros/100;\n",
    "    else\n",
    "        parcelaAtual = 0;\n",
    "    \n",
    "    nParcelaAtual++;\n",
    "    return s;\n",
    "}\n",
    "\n",
    "int main(){\n",
    "    // Entradas do problema:\n",
    "    parcelaAtual = 200;\n",
    "    juros = 1;\n",
    "    totalParcelas = 5;\n",
    "    nParcelaAtual = 1;\n",
    "    \n",
    "    // Calculo iterativo das 7 primeiras parcelas\n",
    "    for(int i = 1; i <= 7; i++)\n",
    "        printf(\"Parcela %d: %.2f\\n\", i, calculaParcela());\n",
    "    \n",
    "    return 0;\n",
    "}\n"
   ]
  },
  {
   "cell_type": "markdown",
   "metadata": {},
   "source": [
    "## Exercício Parte 4 - Minimizando os Parâmetros\n",
    "\n",
    "Partindo da Solução da Parte 2, modifique a forma como você representa o empréstimo, de forma que a função que calcula a próxima parcela receba um único parâmetro."
   ]
  },
  {
   "cell_type": "code",
   "execution_count": 4,
   "metadata": {},
   "outputs": [
    {
     "name": "stdout",
     "output_type": "stream",
     "text": [
      "Parcela 1: 200.00\n",
      "Parcela 2: 202.00\n",
      "Parcela 3: 204.02\n",
      "Parcela 4: 206.06\n",
      "Parcela 5: 208.12\n",
      "Parcela 6: 0.00\n",
      "Parcela 7: 0.00\n"
     ]
    }
   ],
   "source": [
    "#include <stdio.h>\n",
    "\n",
    "typedef struct {\n",
    "    double parcelaAtual;\n",
    "    double juros;\n",
    "    int n;\n",
    "    int i;\n",
    "} Emprestimo;\n",
    "\n",
    "double calculaParcela(Emprestimo *e){\n",
    "    double s = e->parcelaAtual;\n",
    "    \n",
    "    if(e->i < e->n)\n",
    "        e->parcelaAtual *= (1+e->juros/100);\n",
    "    else\n",
    "        e->parcelaAtual = 0;\n",
    "    \n",
    "    (e->i)++;\n",
    "    \n",
    "    return s;\n",
    "}\n",
    "\n",
    "int main(){\n",
    "    // Entradas do problema:\n",
    "    Emprestimo e = {200, 1, 5, 1};\n",
    "        \n",
    "    // Calculo iterativo das 7 primeira parcelas:\n",
    "    for(int i = 1; i <= 7; i++)\n",
    "        printf(\"Parcela %d: %.2f\\n\", i, calculaParcela(&e));\n",
    "    \n",
    "    return 0;\n",
    "}\n"
   ]
  },
  {
   "cell_type": "markdown",
   "metadata": {},
   "source": [
    "## Exercício Parte 5 - Múltiplos Empréstimos\n",
    "\n",
    "Considere que há múltiplos empréstimos que podem ser controlados em paralelo. O seu programa deve ser capaz de informar as parcelas de mais de um empréstimo, mantendo um controle para cada empréstimo separadamente. Você deve decidir qual das soluções tomará como ponto de partida, se deve modificar o programa principal, a função ou ambos para atender esse requisito da melhor forma possível.\n",
    "\n",
    "Por exemplo, suponha os seguintes dois empréstimos em paralelo:\n",
    "\n",
    "### Empréstimo 1\n",
    "* `S`: 200\n",
    "* `N`: 5\n",
    "* `J`: 1%\n",
    "\n",
    "### Empréstimo 2\n",
    "* `S`: 500\n",
    "* `N`: 7\n",
    "* `J`: 2%\n",
    "\n",
    "A saída esperada é:\n",
    "~~~\n",
    "Emprestimo 1: parcela 1 eh 200.00\n",
    "Emprestimo 2: parcela 1 eh 500.00\n",
    "Emprestimo 1: parcela 2 eh 202.00\n",
    "Emprestimo 2: parcela 2 eh 510.00\n",
    "Emprestimo 1: parcela 3 eh 204.02\n",
    "Emprestimo 2: parcela 3 eh 520.20\n",
    "Emprestimo 1: parcela 4 eh 206.06\n",
    "Emprestimo 2: parcela 4 eh 530.60\n",
    "Emprestimo 1: parcela 5 eh 208.12\n",
    "Emprestimo 2: parcela 5 eh 541.22\n",
    "Emprestimo 2: parcela 6 eh 552.04\n",
    "Emprestimo 2: parcela 7 eh 563.08\n",
    "~~~\n",
    "\n",
    "O exemplo mostra dois empréstimos, mas a estrutura deve ser genérica o suficiente para controlar N empréstimos em paralelo."
   ]
  },
  {
   "cell_type": "code",
   "execution_count": 5,
   "metadata": {},
   "outputs": [
    {
     "name": "stdout",
     "output_type": "stream",
     "text": [
      "Emprestimo 1: parcela 1 eh 200.00\n",
      "Emprestimo 2: parcela 1 eh 500.00\n",
      "Emprestimo 1: parcela 2 eh 202.00\n",
      "Emprestimo 2: parcela 2 eh 510.00\n",
      "Emprestimo 1: parcela 3 eh 204.02\n",
      "Emprestimo 2: parcela 3 eh 520.20\n",
      "Emprestimo 1: parcela 4 eh 206.06\n",
      "Emprestimo 2: parcela 4 eh 530.60\n",
      "Emprestimo 1: parcela 5 eh 208.12\n",
      "Emprestimo 2: parcela 5 eh 541.22\n",
      "Emprestimo 2: parcela 6 eh 552.04\n",
      "Emprestimo 2: parcela 7 eh 563.08\n"
     ]
    }
   ],
   "source": [
    "#include <stdio.h>\n",
    "\n",
    "typedef struct {\n",
    "    double parcelaAtual;\n",
    "    double juros;\n",
    "    int n;\n",
    "    int i;\n",
    "} Emprestimo;\n",
    "\n",
    "double calculaParcela(Emprestimo *e){\n",
    "    double s = e->parcelaAtual;\n",
    "    \n",
    "    if(e->i < e->n)\n",
    "        e->parcelaAtual *= (1+e->juros/100);\n",
    "    else\n",
    "        e->parcelaAtual = 0;\n",
    "    \n",
    "    (e->i)++;\n",
    "    \n",
    "    return s;\n",
    "}\n",
    "\n",
    "int main(){\n",
    "    // Entradas do problema:\n",
    "    Emprestimo e1 = {200, 1, 5, 1};\n",
    "    Emprestimo e2 = {500, 2, 7, 1};\n",
    "        \n",
    "    // Calculo iterativo das 7 primeiras parcelas de cada emprestimo:\n",
    "    double parcela;\n",
    "    \n",
    "    for(int i = 1; i <= 7; i++){\n",
    "        parcela = calculaParcela(&e1);\n",
    "        if(parcela)\n",
    "            printf(\"Emprestimo 1: parcela %d eh %.2f\\n\", i, parcela);\n",
    "        \n",
    "        parcela = calculaParcela(&e2);\n",
    "        if(parcela)\n",
    "            printf(\"Emprestimo 2: parcela %d eh %.2f\\n\", i, parcela);\n",
    "    }\n",
    "    \n",
    "    return 0;\n",
    "}\n"
   ]
  },
  {
   "cell_type": "code",
   "execution_count": null,
   "metadata": {},
   "outputs": [],
   "source": []
  }
 ],
 "metadata": {
  "kernelspec": {
   "display_name": "C",
   "language": "c",
   "name": "c"
  },
  "language_info": {
   "file_extension": ".c",
   "mimetype": "text/plain",
   "name": "c"
  }
 },
 "nbformat": 4,
 "nbformat_minor": 4
}
